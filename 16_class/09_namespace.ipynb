{
 "cells": [
  {
   "cell_type": "markdown",
   "metadata": {},
   "source": [
    "## 命名空间"
   ]
  },
  {
   "cell_type": "markdown",
   "metadata": {},
   "source": [
    "命名空间是存放变量的场所。命名空间有局部、全局和内置的，还有对象中的嵌套命名空间。不同命名空间中的变量没有关系。\n",
    "\n",
    "命名空间通过防止命名冲突来支持模块化。例如，函数 builtins.open 与 os.open 可通过各自的命名空间来区分。"
   ]
  },
  {
   "cell_type": "code",
   "execution_count": 1,
   "metadata": {},
   "outputs": [],
   "source": [
    "# 函数的局部命名空间，在函数调用时创建\n",
    "def f():\n",
    "    x = '函数 f 命名空间中的变量 x'\n",
    "    print(x)"
   ]
  },
  {
   "cell_type": "code",
   "execution_count": 2,
   "metadata": {},
   "outputs": [
    {
     "name": "stdout",
     "output_type": "stream",
     "text": [
      "函数 f 命名空间中的变量 x\n"
     ]
    }
   ],
   "source": [
    "# 全局命名空间\n",
    "x = '全局命名空间中的变量 x'\n",
    "# 调用函数 f，与全局命名空间中的 x 无关\n",
    "f()"
   ]
  },
  {
   "cell_type": "code",
   "execution_count": 3,
   "metadata": {},
   "outputs": [
    {
     "name": "stdout",
     "output_type": "stream",
     "text": [
      "全局 randint\n"
     ]
    },
    {
     "data": {
      "text/plain": [
       "1"
      ]
     },
     "execution_count": 3,
     "metadata": {},
     "output_type": "execute_result"
    }
   ],
   "source": [
    "# 模块 random 导入创建它自己的局部命名空间\n",
    "import random\n",
    "# 定义一个全局变量 randint\n",
    "def randint():\n",
    "    print('全局 randint')\n",
    "# random 局部命名空间中的 randint \n",
    "# 与全局变量 randint 无关\n",
    "randint()\n",
    "random.randint(0,3)"
   ]
  },
  {
   "cell_type": "code",
   "execution_count": 4,
   "metadata": {},
   "outputs": [
    {
     "data": {
      "text/plain": [
       "(<function __main__.f()>,\n",
       " '全局命名空间中的变量 x',\n",
       " <module 'random' from 'C:\\\\ProgramData\\\\Anaconda3\\\\lib\\\\random.py'>,\n",
       " <function __main__.randint()>)"
      ]
     },
     "execution_count": 4,
     "metadata": {},
     "output_type": "execute_result"
    }
   ],
   "source": [
    "# 上述定义的变量 f, x, randint，导入的变量 random，\n",
    "# 都存放在了当前全局命名空间中\n",
    "f, x, random, randint"
   ]
  },
  {
   "cell_type": "markdown",
   "metadata": {},
   "source": [
    "内置命名空间是在 Python 解释器启动时创建，存放的变量包括内置函数、异常等。"
   ]
  },
  {
   "cell_type": "code",
   "execution_count": 5,
   "metadata": {},
   "outputs": [
    {
     "data": {
      "text/plain": [
       "'x = 123'"
      ]
     },
     "execution_count": 5,
     "metadata": {},
     "output_type": "execute_result"
    }
   ],
   "source": [
    "# 全局命名空间中定义变量 str，\n",
    "# 将屏蔽内置命名空间中的 str\n",
    "def str(x):\n",
    "    return f'x = {x}'\n",
    "str(123)"
   ]
  },
  {
   "cell_type": "code",
   "execution_count": 6,
   "metadata": {},
   "outputs": [
    {
     "data": {
      "text/plain": [
       "'123'"
      ]
     },
     "execution_count": 6,
     "metadata": {},
     "output_type": "execute_result"
    }
   ],
   "source": [
    "# 但可以在 builtins 中继续调用\n",
    "import builtins\n",
    "\n",
    "builtins.str(123)"
   ]
  },
  {
   "cell_type": "markdown",
   "metadata": {},
   "source": [
    "递归函数，每次递归调用，都会有一个新的命名空间。"
   ]
  },
  {
   "cell_type": "code",
   "execution_count": 7,
   "metadata": {},
   "outputs": [
    {
     "name": "stdout",
     "output_type": "stream",
     "text": [
      "x=3调用，x-1=2继续调用\n",
      "x=2调用，x-1=1继续调用\n",
      "x=1调用，x-1=0继续调用\n",
      "x=0,调用结束\n"
     ]
    }
   ],
   "source": [
    "def f(x):\n",
    "    if x > 0:\n",
    "        print(f'x={x}调用，x-1={x-1}继续调用')\n",
    "    if x == 0:\n",
    "        print(f'x={x},调用结束')\n",
    "    else:\n",
    "        # 以 x-1 作为参数调用函数 f\n",
    "        return f(x-1)\n",
    "f(3)"
   ]
  },
  {
   "cell_type": "markdown",
   "metadata": {},
   "source": [
    "嵌套的命名空间："
   ]
  },
  {
   "cell_type": "code",
   "execution_count": 8,
   "metadata": {},
   "outputs": [
    {
     "name": "stdout",
     "output_type": "stream",
     "text": [
      "全局变量 a\n",
      "类变量 a\n",
      "函数局部变量 a\n"
     ]
    }
   ],
   "source": [
    "a = '全局变量 a'\n",
    "class A:\n",
    "    a = '类变量 a'\n",
    "    def f(self):\n",
    "        a = '函数局部变量 a'\n",
    "        return a\n",
    "\n",
    "print(a)\n",
    "print(A.a)\n",
    "print(A().f())"
   ]
  }
 ],
 "metadata": {
  "kernelspec": {
   "display_name": "Python 3 (ipykernel)",
   "language": "python",
   "name": "python3"
  },
  "language_info": {
   "codemirror_mode": {
    "name": "ipython",
    "version": 3
   },
   "file_extension": ".py",
   "mimetype": "text/x-python",
   "name": "python",
   "nbconvert_exporter": "python",
   "pygments_lexer": "ipython3",
   "version": "3.9.7"
  }
 },
 "nbformat": 4,
 "nbformat_minor": 4
}
