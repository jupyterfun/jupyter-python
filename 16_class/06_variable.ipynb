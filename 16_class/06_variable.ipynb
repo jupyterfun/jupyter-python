{
 "cells": [
  {
   "cell_type": "markdown",
   "metadata": {},
   "source": [
    "## 变量"
   ]
  },
  {
   "cell_type": "markdown",
   "metadata": {},
   "source": [
    "Python 中绑定对象的名称即为变量。\n",
    "\n",
    "人们称呼模块、类、函数和方法对象的名称时，习惯直接指代对象本身，而不是把它们当作变量，例如 random，int，print 等，当将它们绑定到另外的名称时，才称新名称为变量（或化名）。"
   ]
  },
  {
   "cell_type": "code",
   "execution_count": 3,
   "metadata": {},
   "outputs": [
    {
     "name": "stdout",
     "output_type": "stream",
     "text": [
      "1231\n",
      "['1', '2', '3', '1']\n",
      "{'3', '1', '2'}\n"
     ]
    }
   ],
   "source": [
    "# 函数名称 f 绑定自定义函数对象\n",
    "def f(x, func): \n",
    "    print(func(x))\n",
    "    \n",
    "a = '1231' # 变量 a\n",
    "b = [int,list,set] # 变量 b\n",
    "c = f # 名称 f 起别名 c\n",
    "\n",
    "for i in b: # 变量 b 中的项循环赋值给变量 i\n",
    "    c(a,i)"
   ]
  },
  {
   "cell_type": "markdown",
   "metadata": {},
   "source": [
    "如果名称绑定在一个代码块中，则为该代码块的局部变量，除非声明为 nonlocal 或 global。\n",
    "\n",
    "如果名称绑定在模块层级，则为全局变量。(模块代码块的变量既为局部变量又为全局变量。) \n",
    "\n",
    "如果变量在一个代码块中被使用但不是在其中定义，则为自由变量。"
   ]
  },
  {
   "cell_type": "code",
   "execution_count": 1,
   "metadata": {},
   "outputs": [],
   "source": [
    "# 第一个代码块中全局变量 n\n",
    "n = 100 "
   ]
  },
  {
   "cell_type": "code",
   "execution_count": 2,
   "metadata": {},
   "outputs": [],
   "source": [
    "# 第二个代码块\n",
    "# random 模块中的全局变量 randint，\n",
    "# 在此为局部变量，引用后赋值给全局变量 r\n",
    "import random\n",
    "r = random.randint"
   ]
  },
  {
   "cell_type": "code",
   "execution_count": 3,
   "metadata": {},
   "outputs": [
    {
     "name": "stdout",
     "output_type": "stream",
     "text": [
      "22\n"
     ]
    }
   ],
   "source": [
    "# 第三个代码块中 x 为局部变量\n",
    "# n 和 r 不在该代码块中定义，在该代码块为自由变量\n",
    "def f(x):\n",
    "    print(r(x,n))\n",
    "    \n",
    "f(1)"
   ]
  },
  {
   "cell_type": "markdown",
   "metadata": {},
   "source": [
    "如果代码块中定义了一个局部变量，则其作用域包含该代码块。如果定义发生于函数代码块中，则其作用域会扩展到该函数所包含的任何代码块，除非有某个被包含代码块引入了对该名称的不同绑定。"
   ]
  },
  {
   "cell_type": "code",
   "execution_count": 4,
   "metadata": {},
   "outputs": [
    {
     "name": "stdout",
     "output_type": "stream",
     "text": [
      "0 2\n"
     ]
    }
   ],
   "source": [
    "m = 0\n",
    "n = 1 # 全局变量 n\n",
    "def f():\n",
    "    n = 2 # 局部变量 n\n",
    "    print(m,n)\n",
    "f()"
   ]
  },
  {
   "cell_type": "markdown",
   "metadata": {},
   "source": [
    "改变变量作用域，详见 [global 语句](../10_statement/19_global.ipynb) 和 [nonlocal 语句](../10_statement/20_nonlocal.ipynb)。"
   ]
  },
  {
   "cell_type": "markdown",
   "metadata": {},
   "source": [
    "类变量和实例变量：\n",
    "- 在类中定义，仅在类层级修改的变量为类变量，实例也可访问类变量；\n",
    "- 以 `self.name` 命名的变量为实例变量，类不能访问。 "
   ]
  },
  {
   "cell_type": "code",
   "execution_count": 10,
   "metadata": {},
   "outputs": [
    {
     "data": {
      "text/plain": [
       "(1, 100, 2)"
      ]
     },
     "execution_count": 10,
     "metadata": {},
     "output_type": "execute_result"
    }
   ],
   "source": [
    "class A:\n",
    "    a = 1 # 类变量\n",
    "    def __init__(self):\n",
    "        self.a = 100 # 实例变量\n",
    "        self.b = 2\n",
    "        \n",
    "a = A()\n",
    "A.a, a.a, a.b"
   ]
  },
  {
   "cell_type": "code",
   "execution_count": 11,
   "metadata": {},
   "outputs": [
    {
     "ename": "AttributeError",
     "evalue": "type object 'A' has no attribute 'b'",
     "output_type": "error",
     "traceback": [
      "\u001b[1;31m---------------------------------------------------------------------------\u001b[0m",
      "\u001b[1;31mAttributeError\u001b[0m                            Traceback (most recent call last)",
      "\u001b[1;32m<ipython-input-11-f92f3bcfde9d>\u001b[0m in \u001b[0;36m<module>\u001b[1;34m\u001b[0m\n\u001b[1;32m----> 1\u001b[1;33m \u001b[0mA\u001b[0m\u001b[1;33m.\u001b[0m\u001b[0mb\u001b[0m \u001b[1;31m# 类 A 不能访问它的实例的变量 b\u001b[0m\u001b[1;33m\u001b[0m\u001b[1;33m\u001b[0m\u001b[0m\n\u001b[0m",
      "\u001b[1;31mAttributeError\u001b[0m: type object 'A' has no attribute 'b'"
     ]
    }
   ],
   "source": [
    "A.b # 类 A 不能访问它的实例的变量 b"
   ]
  }
 ],
 "metadata": {
  "kernelspec": {
   "display_name": "Python 3 (ipykernel)",
   "language": "python",
   "name": "python3"
  },
  "language_info": {
   "codemirror_mode": {
    "name": "ipython",
    "version": 3
   },
   "file_extension": ".py",
   "mimetype": "text/x-python",
   "name": "python",
   "nbconvert_exporter": "python",
   "pygments_lexer": "ipython3",
   "version": "3.9.7"
  }
 },
 "nbformat": 4,
 "nbformat_minor": 4
}
