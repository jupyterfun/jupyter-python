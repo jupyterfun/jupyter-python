{
 "cells": [
  {
   "cell_type": "markdown",
   "metadata": {},
   "source": [
    "## 对象"
   ]
  },
  {
   "cell_type": "markdown",
   "metadata": {},
   "source": [
    "对象是 Python 中对数据的抽象。Python 程序中的所有数据都是由对象或对象间关系来表示的。\n",
    "\n",
    "例如计算 `x + y` 就有对象 `x` 和 `y`，`+` 其实是调用了 `__add__` 方法对象。"
   ]
  },
  {
   "cell_type": "code",
   "execution_count": 1,
   "metadata": {},
   "outputs": [
    {
     "data": {
      "text/plain": [
       "[1, 2, 3, 4]"
      ]
     },
     "execution_count": 1,
     "metadata": {},
     "output_type": "execute_result"
    }
   ],
   "source": [
    "[1,2] + [3,4]"
   ]
  },
  {
   "cell_type": "code",
   "execution_count": 2,
   "metadata": {},
   "outputs": [
    {
     "data": {
      "text/plain": [
       "<slot wrapper '__add__' of 'list' objects>"
      ]
     },
     "execution_count": 2,
     "metadata": {},
     "output_type": "execute_result"
    }
   ],
   "source": [
    "list.__add__"
   ]
  },
  {
   "cell_type": "code",
   "execution_count": 3,
   "metadata": {},
   "outputs": [
    {
     "data": {
      "text/plain": [
       "[1, 2, 3, 4]"
      ]
     },
     "execution_count": 3,
     "metadata": {},
     "output_type": "execute_result"
    }
   ],
   "source": [
    "[1,2].__add__([3,4])"
   ]
  },
  {
   "cell_type": "markdown",
   "metadata": {},
   "source": [
    "每个对象都有各自的编号、类型和值。一个对象被创建后，它的编号就绝不会改变，可以将其理解为该对象在内存中的地址。"
   ]
  },
  {
   "cell_type": "code",
   "execution_count": 4,
   "metadata": {},
   "outputs": [
    {
     "data": {
      "text/plain": [
       "(2229938322504, list)"
      ]
     },
     "execution_count": 4,
     "metadata": {},
     "output_type": "execute_result"
    }
   ],
   "source": [
    "id([1,2]), type([1,2]) # 实例对象 [1,2] 的编号 和 类型"
   ]
  },
  {
   "cell_type": "code",
   "execution_count": 5,
   "metadata": {},
   "outputs": [
    {
     "data": {
      "text/plain": [
       "(140736641645872, type)"
      ]
     },
     "execution_count": 5,
     "metadata": {},
     "output_type": "execute_result"
    }
   ],
   "source": [
    "id(list), type(list) # 类对象 list 的编号 和 类型"
   ]
  },
  {
   "cell_type": "markdown",
   "metadata": {},
   "source": [
    "对象的值在 Python 中是一个相当抽象的概念：\n",
    "- 对象的值并没有一个规范的访问方法；\n",
    "- 对象的值并不要求具有特定的构建方式，例如由其全部数据属性组成等；\n",
    "- 比较运算符实现了一个特定的对象的值概念，可以认为正是通过实现对象比较，间接地定义了对象的值。"
   ]
  },
  {
   "cell_type": "code",
   "execution_count": 6,
   "metadata": {},
   "outputs": [
    {
     "data": {
      "text/plain": [
       "False"
      ]
     },
     "execution_count": 6,
     "metadata": {},
     "output_type": "execute_result"
    }
   ],
   "source": [
    "# 列表对象 [1,2] 和类对象 list \n",
    "# 是两个不同对象，值是不相等的\n",
    "[1,2] == list "
   ]
  },
  {
   "cell_type": "markdown",
   "metadata": {},
   "source": [
    "具有固定值的对象为不可变对象，例如数字，字符串，元组（包含的对象集不可变），相等的两个值，可能会也可能不会指向同一个对象，看具体实现。"
   ]
  },
  {
   "cell_type": "code",
   "execution_count": 7,
   "metadata": {},
   "outputs": [
    {
     "name": "stdout",
     "output_type": "stream",
     "text": [
      "2229937078536 2229937013960 ([1, 2], (3, 4))\n",
      "2229937078536 2229937013960 ([], (3, 4))\n"
     ]
    }
   ],
   "source": [
    "# 元组的对象集固定不可变\n",
    "t = ([1,2],(3,4))\n",
    "print(id(t[0]),id(t[1]),t)\n",
    "del t[0][:]\n",
    "print(id(t[0]),id(t[1]),t)"
   ]
  },
  {
   "cell_type": "code",
   "execution_count": 8,
   "metadata": {},
   "outputs": [
    {
     "name": "stdout",
     "output_type": "stream",
     "text": [
      "140736642126656\n",
      "140736642126656\n"
     ]
    }
   ],
   "source": [
    "# 同一个对象 1\n",
    "print(id(1))\n",
    "print(id(1))"
   ]
  },
  {
   "cell_type": "code",
   "execution_count": 9,
   "metadata": {},
   "outputs": [
    {
     "name": "stdout",
     "output_type": "stream",
     "text": [
      "2229938479344\n",
      "2229938479248\n"
     ]
    }
   ],
   "source": [
    "# 两个不同对象 1000\n",
    "print(id(1000))\n",
    "print(id(1000))"
   ]
  },
  {
   "cell_type": "markdown",
   "metadata": {},
   "source": [
    "对象的编号保持不变，可以改变值的对象为可变对象。对于可变对象，分别创建两个相等的值，一定是不同对象。"
   ]
  },
  {
   "cell_type": "code",
   "execution_count": 10,
   "metadata": {},
   "outputs": [
    {
     "name": "stdout",
     "output_type": "stream",
     "text": [
      "2229937082056 [1, 2]\n",
      "2229937082056 []\n"
     ]
    }
   ],
   "source": [
    "# 可变对象 a，值改变了还是 a\n",
    "a = [1,2]\n",
    "print(id(a), a)\n",
    "del a[:]\n",
    "print(id(a), a)"
   ]
  },
  {
   "cell_type": "code",
   "execution_count": 11,
   "metadata": {},
   "outputs": [
    {
     "name": "stdout",
     "output_type": "stream",
     "text": [
      "2229917928424 <class '__main__.A'>\n",
      "2229917928424 <class '__main__.A'>\n"
     ]
    }
   ],
   "source": [
    "# 类对象 A，增加属性 a 还是 A\n",
    "class A:pass\n",
    "print(id(A), A)\n",
    "A.a = 0\n",
    "print(id(A), A)"
   ]
  },
  {
   "cell_type": "code",
   "execution_count": 12,
   "metadata": {},
   "outputs": [
    {
     "name": "stdout",
     "output_type": "stream",
     "text": [
      "2229937416840\n",
      "2229937416648\n"
     ]
    },
    {
     "data": {
      "text/plain": [
       "True"
      ]
     },
     "execution_count": 12,
     "metadata": {},
     "output_type": "execute_result"
    }
   ],
   "source": [
    "a = []\n",
    "b = []\n",
    "print(id(a))\n",
    "print(id(b))\n",
    "a == b"
   ]
  },
  {
   "cell_type": "markdown",
   "metadata": {},
   "source": [
    "类或函数对象的哈希值基于其 id，创建两个看起来完全一样的类或函数，id 是不一样的，而可哈希对象必须具有相同的哈希值，比较结果才会相同。"
   ]
  },
  {
   "cell_type": "code",
   "execution_count": 13,
   "metadata": {},
   "outputs": [
    {
     "name": "stdout",
     "output_type": "stream",
     "text": [
      "2229938263992\n",
      "2229938264128\n"
     ]
    },
    {
     "data": {
      "text/plain": [
       "False"
      ]
     },
     "execution_count": 13,
     "metadata": {},
     "output_type": "execute_result"
    }
   ],
   "source": [
    "def f():pass\n",
    "print(id(f))\n",
    "a = f\n",
    "\n",
    "def f():pass\n",
    "print(id(f))\n",
    "b = f\n",
    "a == b"
   ]
  }
 ],
 "metadata": {
  "kernelspec": {
   "display_name": "Python 3 (ipykernel)",
   "language": "python",
   "name": "python3"
  },
  "language_info": {
   "codemirror_mode": {
    "name": "ipython",
    "version": 3
   },
   "file_extension": ".py",
   "mimetype": "text/x-python",
   "name": "python",
   "nbconvert_exporter": "python",
   "pygments_lexer": "ipython3",
   "version": "3.9.7"
  }
 },
 "nbformat": 4,
 "nbformat_minor": 4
}
