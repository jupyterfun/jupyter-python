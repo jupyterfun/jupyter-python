{
 "cells": [
  {
   "cell_type": "markdown",
   "metadata": {},
   "source": [
    "## 类定义"
   ]
  },
  {
   "cell_type": "markdown",
   "metadata": {},
   "source": [
    "类是用来创建用户定义对象的模板，是抽象的对象（类对象）。例如我们说鱼类，指的就是一类抽象的对象，而具体到武昌鱼，鲈鱼，鲫鱼…… 就是具体的对象。\n",
    "\n",
    "定义了一个类，就可以用这个模块来创建它的具体对象（实例）。类定义的详细语法规则见 [class 定义类](../10_statement/13_class.ipynb)。\n",
    "\n",
    "创建一个类，需要继承另一个类。新创建的类是子类，继承的类是基类。如不指定，创建类默认继承自所有类的基类 object。\n",
    "\n",
    "下面是一个没有任何自定义属性的简单类："
   ]
  },
  {
   "cell_type": "code",
   "execution_count": 1,
   "metadata": {},
   "outputs": [
    {
     "data": {
      "text/plain": [
       "__main__.A"
      ]
     },
     "execution_count": 1,
     "metadata": {},
     "output_type": "execute_result"
    }
   ],
   "source": [
    "class A:\n",
    "    pass\n",
    "\n",
    "A"
   ]
  },
  {
   "cell_type": "code",
   "execution_count": 2,
   "metadata": {},
   "outputs": [
    {
     "data": {
      "text/plain": [
       "type"
      ]
     },
     "execution_count": 2,
     "metadata": {},
     "output_type": "execute_result"
    }
   ],
   "source": [
    "type(A)"
   ]
  },
  {
   "cell_type": "code",
   "execution_count": 3,
   "metadata": {},
   "outputs": [
    {
     "data": {
      "text/plain": [
       "(object,)"
      ]
     },
     "execution_count": 3,
     "metadata": {},
     "output_type": "execute_result"
    }
   ],
   "source": [
    "A.__bases__ # 查看基类"
   ]
  },
  {
   "cell_type": "markdown",
   "metadata": {},
   "source": [
    "继承一个指定的类，可以对它进行定制化开发。需要注意参数 self, 它是约定名称（可自定义但不推荐），它就代表类创建的实例对象自身。\n",
    "\n",
    "例如创建一个自定义的列表类，增加 add() 方法："
   ]
  },
  {
   "cell_type": "code",
   "execution_count": 4,
   "metadata": {},
   "outputs": [
    {
     "data": {
      "text/plain": [
       "['1', '2', '3', 4]"
      ]
     },
     "execution_count": 4,
     "metadata": {},
     "output_type": "execute_result"
    }
   ],
   "source": [
    "class Mylist(list):\n",
    "    def add(self,value):\n",
    "        self.append(value)\n",
    "        \n",
    "lst = Mylist('123') # 创建实例赋值给 lst\n",
    "lst.add(4) # lst 调用 add 方法，self 参数就是 lst\n",
    "lst"
   ]
  },
  {
   "cell_type": "markdown",
   "metadata": {},
   "source": [
    "或者自定义一个字典，当访问的键不存在时，不报错，而是返回 None（`__missing__()` 是用来定义字典子类时找不到键如何处理的魔法方法）："
   ]
  },
  {
   "cell_type": "code",
   "execution_count": 5,
   "metadata": {},
   "outputs": [
    {
     "data": {
      "text/plain": [
       "({'a': 1, 'b': 2}, None)"
      ]
     },
     "execution_count": 5,
     "metadata": {},
     "output_type": "execute_result"
    }
   ],
   "source": [
    "class Mydict(dict):\n",
    "    def __missing__(self, key):\n",
    "        return \n",
    "\n",
    "d = Mydict(a=1,b=2)\n",
    "d, d['c']"
   ]
  },
  {
   "cell_type": "markdown",
   "metadata": {},
   "source": [
    "我们也可以自定义任意的类，其中 `__init__()` 方法是创建实例时用来初始化实例对象的魔法方法，可以用它来增加一些自定义属性。没有该方法，创建实例时，将自动调用基类的该方法完成初始化。\n",
    "\n",
    "例如定义一个 “人” 类："
   ]
  },
  {
   "cell_type": "code",
   "execution_count": 6,
   "metadata": {},
   "outputs": [
    {
     "name": "stdout",
     "output_type": "stream",
     "text": [
      "小明用耳朵听着音乐，享受美好生活。\n",
      "小张用大脑和双手勤劳致富。\n"
     ]
    }
   ],
   "source": [
    "class Person:\n",
    "    '这是人类'\n",
    "    # 定义人的属性\n",
    "    def __init__(self, name):\n",
    "        self.name = name\n",
    "        self.ears = '耳朵'\n",
    "        self.brain = '大脑'\n",
    "        self.hands = '双手'\n",
    "    \n",
    "    # 人有生活\n",
    "    def live(self):\n",
    "        print(f'{self.name}用{self.ears}'\n",
    "              '听着音乐，'\n",
    "              '享受美好生活。')\n",
    "        \n",
    "    # 还有工作\n",
    "    def work(self):\n",
    "        print(f'{self.name}用{self.brain}和'\n",
    "              f'{self.hands}'\n",
    "               '勤劳致富。')\n",
    "        \n",
    "# 造人\n",
    "xm = Person('小明')\n",
    "xz = Person('小张')\n",
    "xm.live() # 小明在享受生活\n",
    "xz.work() # 小张在努力工作"
   ]
  }
 ],
 "metadata": {
  "kernelspec": {
   "display_name": "Python 3 (ipykernel)",
   "language": "python",
   "name": "python3"
  },
  "language_info": {
   "codemirror_mode": {
    "name": "ipython",
    "version": 3
   },
   "file_extension": ".py",
   "mimetype": "text/x-python",
   "name": "python",
   "nbconvert_exporter": "python",
   "pygments_lexer": "ipython3",
   "version": "3.9.7"
  }
 },
 "nbformat": 4,
 "nbformat_minor": 4
}
