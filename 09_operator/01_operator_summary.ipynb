{
 "cells": [
  {
   "cell_type": "markdown",
   "metadata": {},
   "source": [
    "## 操作符概述"
   ]
  },
  {
   "cell_type": "markdown",
   "metadata": {},
   "source": [
    "操作符可分为**运算符**（operators）和**分隔符**（delimiters）。\n",
    "\n",
    "运算符有：\n",
    "\n",
    "- 数字运算符\n",
    "\n",
    "`+`，`-`，`*`，`**`，`/`，`//`，`%`，详细用法见 [数字运算](../01_numeric/06_number_operations.ipynb)。\n",
    "\n",
    "- 整数按位运算符\n",
    "\n",
    "`<<`，`>>`，`&`，`|`，`^`，`~`，详细用法见 [整数及其位运算](../01_numeric/02_int.ipynb)。\n",
    "\n",
    "- 比较运算符\n",
    "\n",
    "`<`，`>`，`<=`，`>=`，`==`，`!=`，`in`，`not in`，`is`，`is not`，详细用法见 [比较运算符](../09_operator/02_compare.ipynb)。\n",
    "\n",
    "- 布尔运算符\n",
    "\n",
    "`and`，`or`，`not`，详细用法见 [布尔值及布尔运算](../01_numeric/03_bool.ipynb)。\n",
    "\n",
    "- 赋值运算符 `:=`\n",
    "\n",
    "Python 3.8 新增，将右边的表达式赋值给左边的变量， 同时返回表达式的值。"
   ]
  },
  {
   "cell_type": "code",
   "execution_count": 8,
   "metadata": {},
   "outputs": [
    {
     "data": {
      "text/plain": [
       "2"
      ]
     },
     "execution_count": 8,
     "metadata": {},
     "output_type": "execute_result"
    }
   ],
   "source": [
    "(a := 1+1)"
   ]
  },
  {
   "cell_type": "markdown",
   "metadata": {},
   "source": [
    "运算符还分为一元运算符和二元运算符，一元运算符运算一个对象（操作数），二元运算符运算两个。一元运算符有 `+`（正数），`-`（负数），`~`（整数按位取反）和 `not`（布尔运算 非）。`if ... else ...` 有时称作三元运算符。"
   ]
  },
  {
   "cell_type": "code",
   "execution_count": 9,
   "metadata": {},
   "outputs": [
    {
     "data": {
      "text/plain": [
       "(-1, 2, -4, False)"
      ]
     },
     "execution_count": 9,
     "metadata": {},
     "output_type": "execute_result"
    }
   ],
   "source": [
    "-1, +2, ~3, not 4"
   ]
  },
  {
   "cell_type": "code",
   "execution_count": 11,
   "metadata": {},
   "outputs": [
    {
     "data": {
      "text/plain": [
       "-9"
      ]
     },
     "execution_count": 11,
     "metadata": {},
     "output_type": "execute_result"
    }
   ],
   "source": [
    "1 + 2 - 3 * 4 # 二元运算符加、减和乘"
   ]
  },
  {
   "cell_type": "code",
   "execution_count": 12,
   "metadata": {},
   "outputs": [
    {
     "data": {
      "text/plain": [
       "False"
      ]
     },
     "execution_count": 12,
     "metadata": {},
     "output_type": "execute_result"
    }
   ],
   "source": [
    "True if 2 > 3 else False"
   ]
  },
  {
   "cell_type": "markdown",
   "metadata": {},
   "source": [
    "分隔符有：\n",
    "\n",
    "`(`，`)`，`[`，`]`，`{`，`}`，`,`，`:`，`.`，`;`，`=`，`+=`，`-=`，`*=`，`/=`，`//=`，`%=`，`&=`，`|=`，`^=`，`>>=`，`<<=`，`**=`\n",
    "\n",
    "部分分隔符用法举例：\n",
    "\n",
    "圆括号绑定表达式，或元组显示，方括号用来对序列进行索引、切片取值或列表显示，花括号字典显示或集合显示"
   ]
  },
  {
   "cell_type": "code",
   "execution_count": 13,
   "metadata": {},
   "outputs": [
    {
     "data": {
      "text/plain": [
       "(1, 1, 1, 1, 1, 1, 1, 1, 1)"
      ]
     },
     "execution_count": 13,
     "metadata": {},
     "output_type": "execute_result"
    }
   ],
   "source": [
    "3 * (1 + 2) * (1,)"
   ]
  },
  {
   "cell_type": "code",
   "execution_count": 14,
   "metadata": {},
   "outputs": [
    {
     "data": {
      "text/plain": [
       "[2, 3]"
      ]
     },
     "execution_count": 14,
     "metadata": {},
     "output_type": "execute_result"
    }
   ],
   "source": [
    "[1,2,3,4][1:3]"
   ]
  },
  {
   "cell_type": "code",
   "execution_count": 15,
   "metadata": {},
   "outputs": [
    {
     "data": {
      "text/plain": [
       "{'列表': [], '集合': {1, 2, 3}}"
      ]
     },
     "execution_count": 15,
     "metadata": {},
     "output_type": "execute_result"
    }
   ],
   "source": [
    "{'列表':[], '集合':{1,2,3}}"
   ]
  },
  {
   "cell_type": "markdown",
   "metadata": {},
   "source": [
    "上述分隔符 `=` 为赋值操作符，之后的操作符为增强赋值操作符，将名称绑定（或重新绑定）到特定值，以及修改属性或可变对象的成员项。 详见 [赋值语句](../10_statement/02_assignment.ipynb)。\n",
    "\n",
    "假设将值 value1 绑定到名称 name，`name = value1`，则 `name += value2` 的结果相当于 `name = name + value2`，其他操作符类似。\n",
    "\n",
    "举例如下："
   ]
  },
  {
   "cell_type": "code",
   "execution_count": 16,
   "metadata": {},
   "outputs": [
    {
     "data": {
      "text/plain": [
       "2"
      ]
     },
     "execution_count": 16,
     "metadata": {},
     "output_type": "execute_result"
    }
   ],
   "source": [
    "a = 1\n",
    "a += 1\n",
    "a"
   ]
  },
  {
   "cell_type": "code",
   "execution_count": 19,
   "metadata": {},
   "outputs": [
    {
     "data": {
      "text/plain": [
       "21"
      ]
     },
     "execution_count": 19,
     "metadata": {},
     "output_type": "execute_result"
    }
   ],
   "source": [
    "b = 17\n",
    "b |= 5\n",
    "b"
   ]
  },
  {
   "cell_type": "markdown",
   "metadata": {},
   "source": [
    "除了运算符和分隔符，还有 `'`，`\"`，`\\`，`#` 字符，作为其他字符的组成部分时具有特殊含义，或是对词法分析器有重要意义。\n",
    "\n",
    "`'`，`\"`，`\\`，详见 [字符串概述](../02_string/01_string.ipynb) 和 [转义字符](../02_string/03_escape_character.ipynb)。\n",
    "\n",
    "`#` 通常用来注释代码，但不能包含在字符串中，注释在语法分析中会被忽略："
   ]
  },
  {
   "cell_type": "code",
   "execution_count": 22,
   "metadata": {},
   "outputs": [
    {
     "data": {
      "text/plain": [
       "'\\n# hello world\\n# hello python\\n'"
      ]
     },
     "execution_count": 22,
     "metadata": {},
     "output_type": "execute_result"
    }
   ],
   "source": [
    "# 这是注释\n",
    "'''\n",
    "# hello world\n",
    "# hello python\n",
    "'''"
   ]
  },
  {
   "cell_type": "markdown",
   "metadata": {},
   "source": [
    "操作符除了常规的用法，操作不同的数据类型，相应的数据类型可能定义了特定的操作规则；在特定的应用场景，也有着特殊的用法。详见 [操作符特殊用法](../09_operator/04_special.ipynb)"
   ]
  }
 ],
 "metadata": {
  "kernelspec": {
   "display_name": "Python 3 (ipykernel)",
   "language": "python",
   "name": "python3"
  },
  "language_info": {
   "codemirror_mode": {
    "name": "ipython",
    "version": 3
   },
   "file_extension": ".py",
   "mimetype": "text/x-python",
   "name": "python",
   "nbconvert_exporter": "python",
   "pygments_lexer": "ipython3",
   "version": "3.9.7"
  }
 },
 "nbformat": 4,
 "nbformat_minor": 4
}
