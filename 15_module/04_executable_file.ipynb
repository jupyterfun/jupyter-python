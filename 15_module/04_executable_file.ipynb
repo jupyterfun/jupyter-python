{
 "cells": [
  {
   "cell_type": "markdown",
   "metadata": {},
   "source": [
    "## 可执行文件"
   ]
  },
  {
   "cell_type": "markdown",
   "metadata": {},
   "source": [
    "每一个 `.py` 文件模块，都是 Python 的可执行文件。文件内容可以为空，但执行什么也不发生。\n",
    "\n",
    "你可以在某些编辑工具里打开文件执行，也可以在命令行使用 `python 文件路径` 或 `python -m 模块` 的方式执行。这些方式都是主模块中直接执行文件。\n",
    "\n",
    "主模块（你正在运行代码的当前模块）的 `__name__` 属性总是 `'__main__'` （`__main__` 是一个在解释器启动时直接初始化的特殊模块），因此直接执行文件，`if __name__ == '__main__':` 语句下的代码一定会被执行，而如果导入到其他模块则不会。"
   ]
  },
  {
   "cell_type": "code",
   "execution_count": 1,
   "metadata": {},
   "outputs": [
    {
     "data": {
      "text/plain": [
       "'__main__'"
      ]
     },
     "execution_count": 1,
     "metadata": {},
     "output_type": "execute_result"
    }
   ],
   "source": [
    "__name__"
   ]
  },
  {
   "cell_type": "markdown",
   "metadata": {},
   "source": [
    "下面举例说明：\n",
    "\n",
    "当前文件路径下，有一个 `myfile` 的包，包里有 `space.py` 和 `mycode.py` 模块，内容如下："
   ]
  },
  {
   "cell_type": "code",
   "execution_count": 2,
   "metadata": {},
   "outputs": [],
   "source": [
    "# space.py 为空"
   ]
  },
  {
   "cell_type": "code",
   "execution_count": 1,
   "metadata": {},
   "outputs": [
    {
     "name": "stdout",
     "output_type": "stream",
     "text": [
      "我是mycode模块中的代码\n",
      "我是导入其他模块不会执行的代码\n"
     ]
    }
   ],
   "source": [
    "# mycode.py 的内容, 在此源码直接执行\n",
    "_a = '自学'\n",
    "\n",
    "def __f():\n",
    "    print(_a)\n",
    "\n",
    "msg1 = '我是mycode模块中的代码'\n",
    "print(msg1)\n",
    "\n",
    "if __name__ == '__main__':\n",
    "    msg2 = '我是导入其他模块不会执行的代码'\n",
    "    print(msg2)"
   ]
  },
  {
   "cell_type": "code",
   "execution_count": 2,
   "metadata": {},
   "outputs": [
    {
     "name": "stdout",
     "output_type": "stream",
     "text": [
      "我是mycode模块中的代码\n",
      "我是mycode模块中的代码\n"
     ]
    },
    {
     "ename": "AttributeError",
     "evalue": "module 'myfile.mycode' has no attribute 'msg2'",
     "output_type": "error",
     "traceback": [
      "\u001b[1;31m---------------------------------------------------------------------------\u001b[0m",
      "\u001b[1;31mAttributeError\u001b[0m                            Traceback (most recent call last)",
      "\u001b[1;32m~\\AppData\\Local\\Temp/ipykernel_21344/86150704.py\u001b[0m in \u001b[0;36m<module>\u001b[1;34m\u001b[0m\n\u001b[0;32m      2\u001b[0m \u001b[1;32mfrom\u001b[0m \u001b[0mmyfile\u001b[0m \u001b[1;32mimport\u001b[0m \u001b[0mmycode\u001b[0m\u001b[1;33m\u001b[0m\u001b[1;33m\u001b[0m\u001b[0m\n\u001b[0;32m      3\u001b[0m \u001b[0mprint\u001b[0m\u001b[1;33m(\u001b[0m\u001b[0mmycode\u001b[0m\u001b[1;33m.\u001b[0m\u001b[0mmsg1\u001b[0m\u001b[1;33m)\u001b[0m\u001b[1;33m\u001b[0m\u001b[1;33m\u001b[0m\u001b[0m\n\u001b[1;32m----> 4\u001b[1;33m \u001b[0mmycode\u001b[0m\u001b[1;33m.\u001b[0m\u001b[0mmsg2\u001b[0m\u001b[1;33m\u001b[0m\u001b[1;33m\u001b[0m\u001b[0m\n\u001b[0m",
      "\u001b[1;31mAttributeError\u001b[0m: module 'myfile.mycode' has no attribute 'msg2'"
     ]
    }
   ],
   "source": [
    "# 导入不会执行 __name__ == '__main__' 下面的代码\n",
    "from myfile import mycode\n",
    "print(mycode.msg1)\n",
    "mycode.msg2"
   ]
  },
  {
   "cell_type": "markdown",
   "metadata": {},
   "source": [
    "命令行直接执行模块效果同上。下面使用命令执行（`%run` 是 jupyter 的魔法命令，终端请改为 `python`）："
   ]
  },
  {
   "cell_type": "code",
   "execution_count": 3,
   "metadata": {},
   "outputs": [],
   "source": [
    "# 文件路径必须带 .py，可以是相对或绝对路径\n",
    "%run myfile/space.py "
   ]
  },
  {
   "cell_type": "code",
   "execution_count": 4,
   "metadata": {},
   "outputs": [
    {
     "name": "stdout",
     "output_type": "stream",
     "text": [
      "我是mycode模块中的代码\n",
      "我是导入其他模块不会执行的代码\n"
     ]
    }
   ],
   "source": [
    "%run myfile/mycode.py"
   ]
  },
  {
   "cell_type": "code",
   "execution_count": 5,
   "metadata": {},
   "outputs": [
    {
     "name": "stdout",
     "output_type": "stream",
     "text": [
      "我是mycode模块中的代码\n",
      "我是导入其他模块不会执行的代码\n"
     ]
    }
   ],
   "source": [
    "import warnings # 忽略警告\n",
    "warnings.filterwarnings(\"ignore\") \n",
    "\n",
    "# 模块可以使用属性表示法，但不能有 .py\n",
    "%run -m myfile.mycode "
   ]
  }
 ],
 "metadata": {
  "kernelspec": {
   "display_name": "Python 3 (ipykernel)",
   "language": "python",
   "name": "python3"
  },
  "language_info": {
   "codemirror_mode": {
    "name": "ipython",
    "version": 3
   },
   "file_extension": ".py",
   "mimetype": "text/x-python",
   "name": "python",
   "nbconvert_exporter": "python",
   "pygments_lexer": "ipython3",
   "version": "3.9.7"
  }
 },
 "nbformat": 4,
 "nbformat_minor": 4
}
