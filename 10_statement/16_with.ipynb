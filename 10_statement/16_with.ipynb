{
 "cells": [
  {
   "cell_type": "markdown",
   "metadata": {},
   "source": [
    "## with 语句"
   ]
  },
  {
   "cell_type": "markdown",
   "metadata": {},
   "source": [
    "with 语句用于包装代码块的执行，代码块带有使用上下文管理器定义的函数或方法。语法如下：\n",
    "```\n",
    "with expression as target, expression as target, ...:\n",
    "    suite\n",
    "```\n",
    "\n",
    "带有一个表达式 expression 的 with 语句的执行过程如下:\n",
    "1. 对上下文表达式求值以获得一个上下文管理器。\n",
    "2. 载入上下文管理器的 `__enter__()` 以便后续使用。\n",
    "3. 载入上下文管理器的 `__exit__()` 以便后续使用。\n",
    "4. 发起调用上下文管理器的 `__enter__()` 方法。\n",
    "5. 如果 with 语句中包含目标 target，来自 `__enter__()` 的返回值将被赋值给它。\n",
    "6. 执行语句体。\n",
    "7. 发起调用上下文管理器的 `__exit__()` 方法。\n",
    "\n",
    "with 语句会保证如果 `__enter__()` 方法返回时未发生错误，则 `__exit__()` 将总是被调用。因此，如果在对目标赋值期间发生错误，则会将其视为在语句体内部发生的错误。\n",
    "\n",
    "如果语句体的退出是由异常导致的，则其类型、值和回溯信息将被作为参数传递给 `__exit__()`。否则的话，将提供三个 None 参数（相当于无异常地退出）。\n",
    "\n",
    "如果语句体的退出是由异常导致的，并且来自 `__exit__()` 方法的返回值为真，则该异常会被抑制，并会继续执行 with 语句之后的语句。如果返回值为假，则该异常会被重新引发（`__exit__()` 方法不应该重新引发被传入的异常，这是调用者的责任）。\n",
    "\n",
    "如果语句体由于异常以外的任何原因退出，则来自 `__exit__()` 的返回值会被忽略，并会在该类退出正常的发生位置继续执行。\n",
    "\n",
    "以下代码:\n",
    "```\n",
    "with EXPRESSION as TARGET:\n",
    "    SUITE\n",
    "```\n",
    "\n",
    "在语义上等价于:\n",
    "```\n",
    "manager = (EXPRESSION)\n",
    "enter = type(manager).__enter__\n",
    "exit = type(manager).__exit__\n",
    "value = enter(manager)\n",
    "hit_except = False # False 表示正常执行\n",
    "\n",
    "try:\n",
    "    TARGET = value\n",
    "    SUITE\n",
    "except:\n",
    "    hit_except = True # 发生了异常\n",
    "    # 忽略或抑制异常，继续退出；或退出并引发异常\n",
    "    if not exit(manager, *sys.exc_info()):\n",
    "        raise\n",
    "finally:\n",
    "    if not hit_except: # 正常执行\n",
    "        # 正常退出\n",
    "        exit(manager, None, None, None)\n",
    "```\n",
    "\n",
    "可见使用 with 语句，无论有没有发生异常，都会 “清理” 程序（保存和恢复各种全局状态，锁定和解锁资源，关闭打开的文件等等）。\n",
    "\n",
    "有多个表达式，则会视作存在多个 with 语句嵌套来处理多个上下文管理器:\n",
    "```\n",
    "with A() as a, B() as b:\n",
    "    SUITE\n",
    "\n",
    "# 在语义上等价于:\n",
    "with A() as a:\n",
    "    with B() as b:\n",
    "        SUITE\n",
    "```\n",
    "\n",
    "with 语句常用来打开文件而不需要显式地关闭文件："
   ]
  },
  {
   "cell_type": "code",
   "execution_count": 1,
   "metadata": {},
   "outputs": [
    {
     "name": "stdout",
     "output_type": "stream",
     "text": [
      "xue.cn\n",
      "\n",
      "自学是门手艺\n"
     ]
    }
   ],
   "source": [
    "with open('../11_built-in_function/test.txt',\n",
    "          'r', encoding='utf-8') as f:\n",
    "    print(f.read())"
   ]
  },
  {
   "cell_type": "code",
   "execution_count": 2,
   "metadata": {},
   "outputs": [
    {
     "name": "stdout",
     "output_type": "stream",
     "text": [
      "xue.cn\n",
      "\n",
      "自学是门手艺\n"
     ]
    }
   ],
   "source": [
    "# 相当于\n",
    "f = open('../11_built-in_function/test.txt',\n",
    "         'r', encoding='utf-8')\n",
    "print(f.read())\n",
    "f.close()"
   ]
  }
 ],
 "metadata": {
  "kernelspec": {
   "display_name": "Python 3 (ipykernel)",
   "language": "python",
   "name": "python3"
  },
  "language_info": {
   "codemirror_mode": {
    "name": "ipython",
    "version": 3
   },
   "file_extension": ".py",
   "mimetype": "text/x-python",
   "name": "python",
   "nbconvert_exporter": "python",
   "pygments_lexer": "ipython3",
   "version": "3.9.7"
  }
 },
 "nbformat": 4,
 "nbformat_minor": 4
}
