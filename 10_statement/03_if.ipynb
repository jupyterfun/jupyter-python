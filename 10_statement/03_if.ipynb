{
 "cells": [
  {
   "cell_type": "markdown",
   "metadata": {},
   "source": [
    "## if 条件判断"
   ]
  },
  {
   "cell_type": "markdown",
   "metadata": {},
   "source": [
    "if 语句用于有条件的执行。语法如下：\n",
    "```\n",
    "if assignment_expression:\n",
    "    suite\n",
    "elif assignment_expression: # 可选子句\n",
    "    suite\n",
    "... # 可以多个 elif\n",
    "else: #可选子句\n",
    "    suite\n",
    "```\n",
    "对于简单语句，可以写为一行，但不推荐。\n",
    "\n",
    "它通过对表达式逐个求值直至找到一个真值。然后执行该 if 语句或子句体下的代码，从而 if 语句的其他部分不会被执行或求值。\n",
    "\n",
    "如果所有表达式均为假值，else 子句体如果存在就会被执行。"
   ]
  },
  {
   "cell_type": "code",
   "execution_count": 2,
   "metadata": {},
   "outputs": [
    {
     "name": "stdout",
     "output_type": "stream",
     "text": [
      "0\n",
      "2\n",
      "4\n"
     ]
    }
   ],
   "source": [
    "for i in range(5):\n",
    "    if i % 2 == 0:print(i)"
   ]
  },
  {
   "cell_type": "code",
   "execution_count": 1,
   "metadata": {},
   "outputs": [
    {
     "name": "stdout",
     "output_type": "stream",
     "text": [
      "0\n",
      "2\n",
      "4\n"
     ]
    }
   ],
   "source": [
    "for i in range(5):\n",
    "    if i % 2 == 0:\n",
    "        print(i)"
   ]
  },
  {
   "cell_type": "code",
   "execution_count": 3,
   "metadata": {},
   "outputs": [
    {
     "name": "stdout",
     "output_type": "stream",
     "text": [
      "0\n"
     ]
    }
   ],
   "source": [
    "i,j = 0,1\n",
    "if i < 0: \n",
    "    print(i) # 不执行\n",
    "elif i == 0:\n",
    "    print(i) # 执行，下面的则不再执行\n",
    "elif j == 1:\n",
    "    print(j)\n",
    "else:\n",
    "    print(i,j)"
   ]
  },
  {
   "cell_type": "code",
   "execution_count": 4,
   "metadata": {},
   "outputs": [
    {
     "name": "stdout",
     "output_type": "stream",
     "text": [
      "0 1\n"
     ]
    }
   ],
   "source": [
    "i,j = 0,1\n",
    "if i < 0: \n",
    "    print(i) # 不执行\n",
    "elif i == 1:\n",
    "    print(i) # 不执行\n",
    "elif j == 0:\n",
    "    print(j) # 不执行\n",
    "else:\n",
    "    print(i,j) # 执行"
   ]
  },
  {
   "cell_type": "markdown",
   "metadata": {},
   "source": [
    "多个 if 语句连用，则分别判断，互不影响："
   ]
  },
  {
   "cell_type": "code",
   "execution_count": 5,
   "metadata": {},
   "outputs": [
    {
     "name": "stdout",
     "output_type": "stream",
     "text": [
      "0 1\n",
      "0\n",
      "1\n"
     ]
    }
   ],
   "source": [
    "i,j = 0,1\n",
    "if i < 0: \n",
    "    print(i) # 不执行\n",
    "else:\n",
    "    print(i,j) # 执行\n",
    "if i == 0:\n",
    "    print(i) # 执行\n",
    "if j == 1:\n",
    "    print(j) # 执行\n",
    "else:\n",
    "    print(i,j) # 不执行"
   ]
  }
 ],
 "metadata": {
  "kernelspec": {
   "display_name": "Python 3 (ipykernel)",
   "language": "python",
   "name": "python3"
  },
  "language_info": {
   "codemirror_mode": {
    "name": "ipython",
    "version": 3
   },
   "file_extension": ".py",
   "mimetype": "text/x-python",
   "name": "python",
   "nbconvert_exporter": "python",
   "pygments_lexer": "ipython3",
   "version": "3.9.7"
  }
 },
 "nbformat": 4,
 "nbformat_minor": 4
}
