{
 "cells": [
  {
   "cell_type": "markdown",
   "metadata": {},
   "source": [
    "## def 定义函数"
   ]
  },
  {
   "cell_type": "markdown",
   "metadata": {},
   "source": [
    "def 语句是定义函数的语句。语法如下：\n",
    "```\n",
    "@assignment_expression\n",
    "def funcname(parameter_list) -> expression:\n",
    "    suite\n",
    "```\n",
    "\n",
    "其中的装饰器 `@assignment_expression`，形参 `parameter_list` 和标注 `-> expression` 是可选项。\n",
    "\n",
    "函数定义是一条可执行语句。它执行时会将函数名称 `funcname` 绑定到一个函数对象（函数可执行代码的包装器）。\n",
    "\n",
    "例如，用必选项定义一个什么也不做的函数如下："
   ]
  },
  {
   "cell_type": "code",
   "execution_count": 1,
   "metadata": {},
   "outputs": [
    {
     "data": {
      "text/plain": [
       "<function __main__.f()>"
      ]
     },
     "execution_count": 1,
     "metadata": {},
     "output_type": "execute_result"
    }
   ],
   "source": [
    "def f():\n",
    "    pass\n",
    "\n",
    "f"
   ]
  },
  {
   "cell_type": "markdown",
   "metadata": {},
   "source": [
    "一个函数定义可以被一个或多个装饰器表达式所包装。\n",
    "\n",
    "装饰器必须是可调用对象，它会以该函数对象作为唯一参数被发起调用。\n",
    "\n",
    "其返回值将被绑定到函数名称。多个装饰器会以嵌套方式被应用。"
   ]
  },
  {
   "cell_type": "code",
   "execution_count": 2,
   "metadata": {},
   "outputs": [
    {
     "data": {
      "text/plain": [
       "\"<class 'function'>\""
      ]
     },
     "execution_count": 2,
     "metadata": {},
     "output_type": "execute_result"
    }
   ],
   "source": [
    "@str\n",
    "@type\n",
    "def f():pass\n",
    "f"
   ]
  },
  {
   "cell_type": "markdown",
   "metadata": {},
   "source": [
    "大致相当于："
   ]
  },
  {
   "cell_type": "code",
   "execution_count": 3,
   "metadata": {},
   "outputs": [
    {
     "data": {
      "text/plain": [
       "\"<class 'function'>\""
      ]
     },
     "execution_count": 3,
     "metadata": {},
     "output_type": "execute_result"
    }
   ],
   "source": [
    "def f():pass\n",
    "f = str(type(f))\n",
    "f"
   ]
  },
  {
   "cell_type": "markdown",
   "metadata": {},
   "source": [
    "函数形参 `parameter_list` 详见 [函数形参](../12_function/03_formal_parameter.ipynb)。\n",
    "\n",
    "函数标注 `-> expression` 可以是任何表达式，标注对提高代码的可读性非常有用，看标注而不需要看代码上下文就大概知道代码的使用。例如："
   ]
  },
  {
   "cell_type": "code",
   "execution_count": 4,
   "metadata": {},
   "outputs": [
    {
     "data": {
      "text/plain": [
       "['1', '2', '3']"
      ]
     },
     "execution_count": 4,
     "metadata": {},
     "output_type": "execute_result"
    }
   ],
   "source": [
    "# 标注函数的参数和返回值类型\n",
    "def f(arg:int) -> list:\n",
    "    return list(str(arg))\n",
    "f(123)"
   ]
  }
 ],
 "metadata": {
  "kernelspec": {
   "display_name": "Python 3 (ipykernel)",
   "language": "python",
   "name": "python3"
  },
  "language_info": {
   "codemirror_mode": {
    "name": "ipython",
    "version": 3
   },
   "file_extension": ".py",
   "mimetype": "text/x-python",
   "name": "python",
   "nbconvert_exporter": "python",
   "pygments_lexer": "ipython3",
   "version": "3.9.7"
  }
 },
 "nbformat": 4,
 "nbformat_minor": 4
}
