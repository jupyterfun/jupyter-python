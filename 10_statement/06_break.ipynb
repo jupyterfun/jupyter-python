{
 "cells": [
  {
   "cell_type": "markdown",
   "metadata": {},
   "source": [
    "## break 语句"
   ]
  },
  {
   "cell_type": "markdown",
   "metadata": {},
   "source": [
    "break 在语法上只会出现于 for 或 while 循环所嵌套的代码。\n",
    "\n",
    "它会终结最近的外层循环，如果循环有可选的 else 子句，也会跳过该子句。\n",
    "\n",
    "如果一个 for 循环被 break 所终结，该循环的控制变量会保持其当前值。\n",
    "\n",
    "当 break 将控制流传出一个带有 finally 子句的 try 语句时，该  finally 子句会先被执行然后再真正离开该循环。"
   ]
  },
  {
   "cell_type": "code",
   "execution_count": 1,
   "metadata": {},
   "outputs": [
    {
     "name": "stdout",
     "output_type": "stream",
     "text": [
      "i=0,j=0\n",
      "i=1,j=1\n",
      "i=2,j=4\n",
      "i=5,j=5\n"
     ]
    }
   ],
   "source": [
    "for i in range(6):\n",
    "    for j in range(6):\n",
    "        if i**2 == j:\n",
    "            print(f'i={i},j={j}')\n",
    "print(f'i={i},j={j}')            "
   ]
  },
  {
   "cell_type": "code",
   "execution_count": 2,
   "metadata": {},
   "outputs": [
    {
     "name": "stdout",
     "output_type": "stream",
     "text": [
      "i=0,j=0\n",
      "i=5,j=0\n"
     ]
    }
   ],
   "source": [
    "for i in range(6):\n",
    "    for j in range(6):\n",
    "        if i**2 == j:\n",
    "            print(f'i={i},j={j}')\n",
    "        break\n",
    "print(f'i={i},j={j}')  "
   ]
  },
  {
   "cell_type": "code",
   "execution_count": 3,
   "metadata": {},
   "outputs": [
    {
     "name": "stdout",
     "output_type": "stream",
     "text": [
      "i=0,j=0\n"
     ]
    }
   ],
   "source": [
    "for i in range(6):\n",
    "    for j in range(6):\n",
    "        if i**2 == j:\n",
    "            print(f'i={i},j={j}')\n",
    "        break # 控制内层循环\n",
    "    else: # 不会执行\n",
    "        print(f'i={i},j={j}')  "
   ]
  },
  {
   "cell_type": "code",
   "execution_count": 4,
   "metadata": {},
   "outputs": [
    {
     "name": "stdout",
     "output_type": "stream",
     "text": [
      "i=0,j=0\n",
      "i=5,j=0\n"
     ]
    }
   ],
   "source": [
    "for i in range(6):\n",
    "    for j in range(6):\n",
    "        if i**2 == j:\n",
    "            print(f'i={i},j={j}')\n",
    "        break\n",
    "else: # 属于外层循环，会执行\n",
    "    print(f'i={i},j={j}')  "
   ]
  },
  {
   "cell_type": "code",
   "execution_count": 5,
   "metadata": {},
   "outputs": [
    {
     "name": "stdout",
     "output_type": "stream",
     "text": [
      "division by zero\n",
      "i=0\n",
      "3/i=3.0\n",
      "i=1\n",
      "3/i=1.5\n",
      "i=2\n",
      "3/i=1.0\n",
      "i=3\n",
      "3/i=0.75\n",
      "i=4\n"
     ]
    }
   ],
   "source": [
    "for i in range(5):\n",
    "    try:\n",
    "        print(f'3/i={3/i}')\n",
    "    except ZeroDivisionError as e:\n",
    "        print(e)\n",
    "    finally:\n",
    "        print(f'i={i}')"
   ]
  },
  {
   "cell_type": "code",
   "execution_count": 6,
   "metadata": {},
   "outputs": [
    {
     "name": "stdout",
     "output_type": "stream",
     "text": [
      "division by zero\n",
      "i=0\n",
      "3/i=3.0\n",
      "i=1\n"
     ]
    }
   ],
   "source": [
    "# 引发异常直接跳过 break\n",
    "# 无异常则继续执行完 finally 才终止循环\n",
    "for i in range(5):\n",
    "    try:\n",
    "        print(f'3/i={3/i}')\n",
    "        break\n",
    "    except ZeroDivisionError as e:\n",
    "        print(e)\n",
    "    finally:\n",
    "        print(f'i={i}')"
   ]
  }
 ],
 "metadata": {
  "kernelspec": {
   "display_name": "Python 3 (ipykernel)",
   "language": "python",
   "name": "python3"
  },
  "language_info": {
   "codemirror_mode": {
    "name": "ipython",
    "version": 3
   },
   "file_extension": ".py",
   "mimetype": "text/x-python",
   "name": "python",
   "nbconvert_exporter": "python",
   "pygments_lexer": "ipython3",
   "version": "3.9.7"
  }
 },
 "nbformat": 4,
 "nbformat_minor": 4
}
