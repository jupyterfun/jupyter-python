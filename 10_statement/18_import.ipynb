{
 "cells": [
  {
   "cell_type": "markdown",
   "metadata": {},
   "source": [
    "## import 导入语句"
   ]
  },
  {
   "cell_type": "markdown",
   "metadata": {},
   "source": [
    "import 语句用于从模块中导入子模块，类，函数等。语法大致有三种：\n",
    "```\n",
    "# 第一种\n",
    "import module as name, module as name, ...\n",
    "\n",
    "# 第二种\n",
    "# import 之后可以置于一个元组\n",
    "from module import identifier as name, identifier as name, ...\n",
    "\n",
    "# 第三种\n",
    "from module import *\n",
    "```\n",
    "\n",
    "模块 `module` 可以是高层级到低层级用属性表示法引用的模块，例如 `pandas.core.series`。\n",
    "\n",
    "`as` 及其后的别名 `name` 是可选的。\n",
    "\n",
    "语句可以导入单个或多个对象，用逗号分隔实际是多个子句。\n",
    "\n",
    "第一种导入方法，如果成功获取到模块，则可以通过以下方式之一在 import 语句所在命名空间中使用它：\n",
    "- 如果被导入模块是最高层级模块，模块名被绑定；\n",
    "- 如果导入的模块不是最高层级的模块，则该模块的最高层级模块名被绑定，该模块必须使用完整限定名访问；\n",
    "- 如果有 as，则 as 之后的别名被绑定，模块名不绑定。\n",
    "\n",
    "如果没有指定模块，引发 ModuleNotFoundError。"
   ]
  },
  {
   "cell_type": "code",
   "execution_count": 4,
   "metadata": {},
   "outputs": [
    {
     "data": {
      "text/plain": [
       "<module 'pandas' from 'F:\\\\anaconda\\\\lib\\\\site-packages\\\\pandas\\\\__init__.py'>"
      ]
     },
     "execution_count": 4,
     "metadata": {},
     "output_type": "execute_result"
    }
   ],
   "source": [
    "import pandas\n",
    "pandas"
   ]
  },
  {
   "cell_type": "code",
   "execution_count": 5,
   "metadata": {},
   "outputs": [
    {
     "data": {
      "text/plain": [
       "(<module 'pandas' from 'F:\\\\anaconda\\\\lib\\\\site-packages\\\\pandas\\\\__init__.py'>,\n",
       " <module 'pandas.core' from 'F:\\\\anaconda\\\\lib\\\\site-packages\\\\pandas\\\\core\\\\__init__.py'>,\n",
       " <module 'pandas.core.series' from 'F:\\\\anaconda\\\\lib\\\\site-packages\\\\pandas\\\\core\\\\series.py'>)"
      ]
     },
     "execution_count": 5,
     "metadata": {},
     "output_type": "execute_result"
    }
   ],
   "source": [
    "del pandas\n",
    "import pandas.core.series\n",
    "pandas, pandas.core, pandas.core.series"
   ]
  },
  {
   "cell_type": "code",
   "execution_count": 6,
   "metadata": {},
   "outputs": [
    {
     "ename": "NameError",
     "evalue": "name 'series' is not defined",
     "output_type": "error",
     "traceback": [
      "\u001b[1;31m---------------------------------------------------------------------------\u001b[0m",
      "\u001b[1;31mNameError\u001b[0m                                 Traceback (most recent call last)",
      "\u001b[1;32m<ipython-input-6-2859777d6f2b>\u001b[0m in \u001b[0;36m<module>\u001b[1;34m\u001b[0m\n\u001b[1;32m----> 1\u001b[1;33m \u001b[0mseries\u001b[0m\u001b[1;33m\u001b[0m\u001b[1;33m\u001b[0m\u001b[0m\n\u001b[0m",
      "\u001b[1;31mNameError\u001b[0m: name 'series' is not defined"
     ]
    }
   ],
   "source": [
    "series # 必须完成限定名访问"
   ]
  },
  {
   "cell_type": "code",
   "execution_count": 7,
   "metadata": {},
   "outputs": [
    {
     "data": {
      "text/plain": [
       "<module 'pandas.core.series' from 'F:\\\\anaconda\\\\lib\\\\site-packages\\\\pandas\\\\core\\\\series.py'>"
      ]
     },
     "execution_count": 7,
     "metadata": {},
     "output_type": "execute_result"
    }
   ],
   "source": [
    "del pandas\n",
    "import pandas.core.series as pds\n",
    "pds"
   ]
  },
  {
   "cell_type": "code",
   "execution_count": 8,
   "metadata": {},
   "outputs": [
    {
     "ename": "NameError",
     "evalue": "name 'pandas' is not defined",
     "output_type": "error",
     "traceback": [
      "\u001b[1;31m---------------------------------------------------------------------------\u001b[0m",
      "\u001b[1;31mNameError\u001b[0m                                 Traceback (most recent call last)",
      "\u001b[1;32m<ipython-input-8-609b6d5922fb>\u001b[0m in \u001b[0;36m<module>\u001b[1;34m\u001b[0m\n\u001b[1;32m----> 1\u001b[1;33m \u001b[0mpandas\u001b[0m\u001b[1;33m\u001b[0m\u001b[1;33m\u001b[0m\u001b[0m\n\u001b[0m",
      "\u001b[1;31mNameError\u001b[0m: name 'pandas' is not defined"
     ]
    }
   ],
   "source": [
    "pandas # 只能使用别名访问"
   ]
  },
  {
   "cell_type": "code",
   "execution_count": 10,
   "metadata": {},
   "outputs": [
    {
     "ename": "NameError",
     "evalue": "name 'pandas' is not defined",
     "output_type": "error",
     "traceback": [
      "\u001b[1;31m---------------------------------------------------------------------------\u001b[0m",
      "\u001b[1;31mNameError\u001b[0m                                 Traceback (most recent call last)",
      "\u001b[1;32m<ipython-input-10-0b76d1984901>\u001b[0m in \u001b[0;36m<module>\u001b[1;34m\u001b[0m\n\u001b[0;32m      1\u001b[0m \u001b[1;32mdef\u001b[0m \u001b[0mf\u001b[0m\u001b[1;33m(\u001b[0m\u001b[1;33m)\u001b[0m\u001b[1;33m:\u001b[0m\u001b[1;33m\u001b[0m\u001b[1;33m\u001b[0m\u001b[0m\n\u001b[0;32m      2\u001b[0m     \u001b[1;32mimport\u001b[0m \u001b[0mpandas\u001b[0m \u001b[1;31m# 局部命名空间导入\u001b[0m\u001b[1;33m\u001b[0m\u001b[1;33m\u001b[0m\u001b[0m\n\u001b[1;32m----> 3\u001b[1;33m \u001b[0mpandas\u001b[0m\u001b[1;33m\u001b[0m\u001b[1;33m\u001b[0m\u001b[0m\n\u001b[0m",
      "\u001b[1;31mNameError\u001b[0m: name 'pandas' is not defined"
     ]
    }
   ],
   "source": [
    "def f():\n",
    "    import pandas # 局部命名空间导入\n",
    "pandas # 全局命名空间不能访问"
   ]
  },
  {
   "cell_type": "markdown",
   "metadata": {},
   "source": [
    "第二种导入方法，如果成功获取到模块，from 之后的模块名不会被绑定，对于 import 子句导入的属性或子模块，如果有 as 子句，则只能使用其指定的别名使用它，否则使用该属性或子模块的名称 identifier 使用它。\n",
    "\n",
    "如果属性或子模块不存在，或不能导入，引发 ImportError。"
   ]
  },
  {
   "cell_type": "code",
   "execution_count": 1,
   "metadata": {},
   "outputs": [
    {
     "data": {
      "text/plain": [
       "<module 'pandas.core.base' from 'F:\\\\anaconda\\\\lib\\\\site-packages\\\\pandas\\\\core\\\\base.py'>"
      ]
     },
     "execution_count": 1,
     "metadata": {},
     "output_type": "execute_result"
    }
   ],
   "source": [
    "from pandas.core import base\n",
    "base"
   ]
  },
  {
   "cell_type": "code",
   "execution_count": 2,
   "metadata": {},
   "outputs": [
    {
     "ename": "NameError",
     "evalue": "name 'pandas' is not defined",
     "output_type": "error",
     "traceback": [
      "\u001b[1;31m---------------------------------------------------------------------------\u001b[0m",
      "\u001b[1;31mNameError\u001b[0m                                 Traceback (most recent call last)",
      "\u001b[1;32m<ipython-input-2-37462de79a89>\u001b[0m in \u001b[0;36m<module>\u001b[1;34m\u001b[0m\n\u001b[1;32m----> 1\u001b[1;33m \u001b[0mpandas\u001b[0m\u001b[1;33m.\u001b[0m\u001b[0mcore\u001b[0m\u001b[1;33m\u001b[0m\u001b[1;33m\u001b[0m\u001b[0m\n\u001b[0m",
      "\u001b[1;31mNameError\u001b[0m: name 'pandas' is not defined"
     ]
    }
   ],
   "source": [
    "pandas.core # 只导入了该模块下的子模块 base"
   ]
  },
  {
   "cell_type": "code",
   "execution_count": 1,
   "metadata": {},
   "outputs": [
    {
     "data": {
      "text/plain": [
       "(<function Random.random()>,\n",
       " <bound method Random.randint of <random.Random object at 0x000001E531A14580>>)"
      ]
     },
     "execution_count": 1,
     "metadata": {},
     "output_type": "execute_result"
    }
   ],
   "source": [
    "# 导入多个可置于元组中\n",
    "from random import (random as r1,\n",
    "                    randint as r2,)\n",
    "r1, r2"
   ]
  },
  {
   "cell_type": "code",
   "execution_count": 7,
   "metadata": {},
   "outputs": [
    {
     "ename": "ImportError",
     "evalue": "cannot import name 'base' from 'pandas' (F:\\anaconda\\lib\\site-packages\\pandas\\__init__.py)",
     "output_type": "error",
     "traceback": [
      "\u001b[1;31m---------------------------------------------------------------------------\u001b[0m",
      "\u001b[1;31mImportError\u001b[0m                               Traceback (most recent call last)",
      "\u001b[1;32m<ipython-input-7-7903c4949085>\u001b[0m in \u001b[0;36m<module>\u001b[1;34m\u001b[0m\n\u001b[1;32m----> 1\u001b[1;33m \u001b[1;32mfrom\u001b[0m \u001b[0mpandas\u001b[0m \u001b[1;32mimport\u001b[0m \u001b[0mbase\u001b[0m\u001b[1;33m\u001b[0m\u001b[1;33m\u001b[0m\u001b[0m\n\u001b[0m",
      "\u001b[1;31mImportError\u001b[0m: cannot import name 'base' from 'pandas' (F:\\anaconda\\lib\\site-packages\\pandas\\__init__.py)"
     ]
    }
   ],
   "source": [
    "# pandas 下没有 base，导入错误\n",
    "from pandas import base "
   ]
  },
  {
   "cell_type": "markdown",
   "metadata": {},
   "source": [
    "第三种导入方法，则在模块中定义的全部公有名称都将绑定到 import 语句所在的命名空间。\n",
    "\n",
    "公有名称是由在模块的命名空间中检测一个名为 `__all__` 的变量来确定的；如果 `__all__` 没有被定义，则公有名称的集合将包含模块的命名空间中找到的所有不以下划线字符 `_` 打头的名称。"
   ]
  },
  {
   "cell_type": "code",
   "execution_count": 8,
   "metadata": {},
   "outputs": [
    {
     "data": {
      "text/plain": [
       "<bound method Random.randint of <random.Random object at 0x0000025E1DCC8180>>"
      ]
     },
     "execution_count": 8,
     "metadata": {},
     "output_type": "execute_result"
    }
   ],
   "source": [
    "from random import *\n",
    "randint"
   ]
  },
  {
   "cell_type": "markdown",
   "metadata": {},
   "source": [
    "当指定要导入哪个模块时，你不必指定模块的绝对名称。当一个模块或包被包含在另一个包之中时，可以在同一个最高层级包中进行相对导入，而不必提及包名称。\n",
    "\n",
    "通过在 from 之后指定的模块或包中使用前缀点号，你可以在不指定确切名称的情况下指明在**当前包**层级结构中要上溯多少级。一个前缀点号表示是执行导入的模块所在的当前包，两个点号表示上溯一个包层级。三个点号表示上溯两级，依此类推。例如：\n",
    "```\n",
    "package/\n",
    "    __init__.py\n",
    "    subpackage1/\n",
    "        __init__.py\n",
    "        moduleX.py\n",
    "        moduleY.py\n",
    "    subpackage2/\n",
    "        __init__.py\n",
    "        moduleZ.py\n",
    "    moduleA.py\n",
    "```\n",
    "假设当前位置是 ` subpackage1/moduleX.py`，则：\n",
    "```\n",
    "from .moduleY import spam\n",
    "from . import moduleY\n",
    "from ..subpackage1 import moduleY\n",
    "from ..subpackage2.moduleZ import eggs\n",
    "from ..moduleA import foo\n",
    "```\n",
    "都是有效的。"
   ]
  }
 ],
 "metadata": {
  "kernelspec": {
   "display_name": "Python 3 (ipykernel)",
   "language": "python",
   "name": "python3"
  },
  "language_info": {
   "codemirror_mode": {
    "name": "ipython",
    "version": 3
   },
   "file_extension": ".py",
   "mimetype": "text/x-python",
   "name": "python",
   "nbconvert_exporter": "python",
   "pygments_lexer": "ipython3",
   "version": "3.9.7"
  }
 },
 "nbformat": 4,
 "nbformat_minor": 4
}
