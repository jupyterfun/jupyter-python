{
 "cells": [
  {
   "cell_type": "markdown",
   "metadata": {},
   "source": [
    "## yield 语句"
   ]
  },
  {
   "cell_type": "markdown",
   "metadata": {},
   "source": [
    "yield 语句，仅在定义 [生成器函数](../12_function/09_generator.ipynb) 时使用，并且仅被用于生成器函数的函数体内部。语法如下：\n",
    "```\n",
    "yield from expression\n",
    "```\n",
    "\n",
    "`from` 和表达式 `expression` 是可选的，没有表达式默认是 None。\n",
    "\n",
    "yield 语句整体也是一个可被求值的表达式语句，初始值也是默认 None，可通过 send 方法设置 yield 表达式的值。\n",
    "\n",
    "在函数定义中使用 yield 使得该定义创建的是生成器函数而非普通函数。当一个生成器函数被调用的时候，它返回一个生成器迭代器。\n",
    "\n",
    "yield from 相当于将一个可迭代对象 “拆包”，然后逐项被生成器迭代时使用。"
   ]
  },
  {
   "cell_type": "code",
   "execution_count": 1,
   "metadata": {},
   "outputs": [
    {
     "name": "stdout",
     "output_type": "stream",
     "text": [
      "<function f at 0x00000157028A9598>\n",
      "<generator object f at 0x000001570286CB88>\n",
      "None\n"
     ]
    }
   ],
   "source": [
    "# 创建一个简单的生成器函数\n",
    "def f():\n",
    "    yield\n",
    "    \n",
    "print(f)\n",
    "# 调用它获得一个生成器\n",
    "print(f())\n",
    "# next() 函数迭代生成器获取表达式的值\n",
    "print(next(f()))"
   ]
  },
  {
   "cell_type": "code",
   "execution_count": 2,
   "metadata": {},
   "outputs": [
    {
     "name": "stdout",
     "output_type": "stream",
     "text": [
      "1\n",
      "None\n",
      "end\n"
     ]
    }
   ],
   "source": [
    "# 获取并设置 yield 语句的值\n",
    "def f(n):\n",
    "    x = yield n\n",
    "    print(x)\n",
    "    \n",
    "g = f(1)\n",
    "print(next(g))\n",
    "# 迭代结束，打印出 yield 语句 x 的初始值为 None\n",
    "print(next(g,'end'))"
   ]
  },
  {
   "cell_type": "code",
   "execution_count": 3,
   "metadata": {},
   "outputs": [
    {
     "name": "stdout",
     "output_type": "stream",
     "text": [
      "yield 表达式的值为:10\n"
     ]
    },
    {
     "data": {
      "text/plain": [
       "(0, 1)"
      ]
     },
     "execution_count": 3,
     "metadata": {},
     "output_type": "execute_result"
    }
   ],
   "source": [
    "# 可通过 send 方法设置当前 yield 表达式的值\n",
    "# 并返回生成器产生的下一个值\n",
    "def f(n):\n",
    "    x = yield n\n",
    "    print(f'yield 表达式的值为:{x}')\n",
    "    n += 1\n",
    "    yield n\n",
    "    \n",
    "g = f(0)\n",
    "next(g), g.send(10)"
   ]
  },
  {
   "cell_type": "code",
   "execution_count": 4,
   "metadata": {},
   "outputs": [
    {
     "data": {
      "text/plain": [
       "(1, 2, 3, 'end')"
      ]
     },
     "execution_count": 4,
     "metadata": {},
     "output_type": "execute_result"
    }
   ],
   "source": [
    "def f(*args):\n",
    "    yield from args\n",
    "\n",
    "g = f(1,2,3)\n",
    "next(g),next(g),next(g),next(g,'end')"
   ]
  },
  {
   "cell_type": "code",
   "execution_count": 5,
   "metadata": {},
   "outputs": [
    {
     "data": {
      "text/plain": [
       "('1', '2', '3', 'end')"
      ]
     },
     "execution_count": 5,
     "metadata": {},
     "output_type": "execute_result"
    }
   ],
   "source": [
    "def f(arg):\n",
    "    yield from arg\n",
    "\n",
    "g = f('123')\n",
    "next(g),next(g),next(g),next(g,'end')"
   ]
  }
 ],
 "metadata": {
  "kernelspec": {
   "display_name": "Python 3 (ipykernel)",
   "language": "python",
   "name": "python3"
  },
  "language_info": {
   "codemirror_mode": {
    "name": "ipython",
    "version": 3
   },
   "file_extension": ".py",
   "mimetype": "text/x-python",
   "name": "python",
   "nbconvert_exporter": "python",
   "pygments_lexer": "ipython3",
   "version": "3.9.7"
  }
 },
 "nbformat": 4,
 "nbformat_minor": 4
}
