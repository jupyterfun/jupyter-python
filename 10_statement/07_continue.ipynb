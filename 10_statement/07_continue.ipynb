{
 "cells": [
  {
   "cell_type": "markdown",
   "metadata": {},
   "source": [
    "## continue 语句"
   ]
  },
  {
   "cell_type": "markdown",
   "metadata": {},
   "source": [
    "continue 在语法上只会出现于 for 或 while 循环所嵌套的代码中。\n",
    "\n",
    "它会继续执行最近的外层循环的下一个轮次，或者在没有下一轮次时转往  else 子句执行。\n",
    "\n",
    "当 continue 将控制流传出一个带有 finally 子句的 try 语句时，该  finally 子句会先被执行然后再真正开始循环的下一个轮次。"
   ]
  },
  {
   "cell_type": "code",
   "execution_count": 1,
   "metadata": {},
   "outputs": [
    {
     "name": "stdout",
     "output_type": "stream",
     "text": [
      "i=0,j=1\n",
      "i=1,j=1\n",
      "i=2,j=1\n"
     ]
    }
   ],
   "source": [
    "for i in range(3):\n",
    "    for j in range(3):\n",
    "        if j == 1:\n",
    "            print(f'i={i},j={j}')\n",
    "        continue"
   ]
  },
  {
   "cell_type": "code",
   "execution_count": 2,
   "metadata": {},
   "outputs": [
    {
     "name": "stdout",
     "output_type": "stream",
     "text": [
      "i=0,j=2\n",
      "end\n",
      "i=1,j=2\n",
      "end\n",
      "i=2,j=2\n",
      "end\n"
     ]
    }
   ],
   "source": [
    "for i in range(3):\n",
    "    for j in range(3):\n",
    "        if j == 2:\n",
    "            print(f'i={i},j={j}')\n",
    "        continue\n",
    "    else: # 属于内层循环，每次内层循环结束都执行\n",
    "        print('end')"
   ]
  },
  {
   "cell_type": "code",
   "execution_count": 3,
   "metadata": {},
   "outputs": [
    {
     "name": "stdout",
     "output_type": "stream",
     "text": [
      "i=0,j=2\n",
      "i=1,j=2\n",
      "i=2,j=2\n",
      "end\n"
     ]
    }
   ],
   "source": [
    "for i in range(3):\n",
    "    for j in range(3):\n",
    "        if j == 2:\n",
    "            print(f'i={i},j={j}')\n",
    "        continue\n",
    "else: # 属于外层循环，外层循环结束才执行\n",
    "    print('end')"
   ]
  },
  {
   "cell_type": "code",
   "execution_count": 4,
   "metadata": {},
   "outputs": [
    {
     "name": "stdout",
     "output_type": "stream",
     "text": [
      "division by zero\n",
      "i=0\n",
      "0\n",
      "3/i=3.0\n",
      "i=1\n",
      "3/i=1.5\n",
      "i=2\n",
      "end\n"
     ]
    }
   ],
   "source": [
    "# 引发异常直接跳过 continue\n",
    "# 无异常则继续执行完 finally 才继续下一次循环\n",
    "for i in range(3):\n",
    "    try:\n",
    "        print(f'3/i={3/i}')\n",
    "        continue\n",
    "    except ZeroDivisionError as e:\n",
    "        print(e)\n",
    "    finally:\n",
    "        print(f'i={i}')\n",
    "    print(i) # 无异常时被跳过\n",
    "else:\n",
    "    print('end')"
   ]
  }
 ],
 "metadata": {
  "kernelspec": {
   "display_name": "Python 3 (ipykernel)",
   "language": "python",
   "name": "python3"
  },
  "language_info": {
   "codemirror_mode": {
    "name": "ipython",
    "version": 3
   },
   "file_extension": ".py",
   "mimetype": "text/x-python",
   "name": "python",
   "nbconvert_exporter": "python",
   "pygments_lexer": "ipython3",
   "version": "3.9.7"
  }
 },
 "nbformat": 4,
 "nbformat_minor": 4
}
