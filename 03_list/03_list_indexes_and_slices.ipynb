{
 "cells": [
  {
   "cell_type": "markdown",
   "metadata": {},
   "source": [
    "## 列表的索引和切片"
   ]
  },
  {
   "cell_type": "markdown",
   "metadata": {},
   "source": [
    "列表是序列类型中的可变类型，它的索引和切片操作，和通用的序列操作比较，有许多不一样的地方，主要体现在利用索引和切片对列表元素进行增、删、改。\n",
    "\n",
    "索引和切片是序列类型通用操作，详细的规则和用法，见[序列索引和切片](../05_sequence/03_index_slice.ipynb)。\n",
    "\n",
    "列表可以利用索引替换某一个元素："
   ]
  },
  {
   "cell_type": "code",
   "execution_count": 1,
   "metadata": {},
   "outputs": [
    {
     "data": {
      "text/plain": [
       "[1, 0, 3]"
      ]
     },
     "execution_count": 1,
     "metadata": {},
     "output_type": "execute_result"
    }
   ],
   "source": [
    "_list = [1,2,3]\n",
    "_list[1] = 0\n",
    "_list"
   ]
  },
  {
   "cell_type": "markdown",
   "metadata": {},
   "source": [
    "利用切片将切片中的元素替换为可迭代对象中的元素："
   ]
  },
  {
   "cell_type": "code",
   "execution_count": 2,
   "metadata": {},
   "outputs": [
    {
     "data": {
      "text/plain": [
       "[1, '1', '2', '3']"
      ]
     },
     "execution_count": 2,
     "metadata": {},
     "output_type": "execute_result"
    }
   ],
   "source": [
    "_list = [1,2,3]\n",
    "_list[1:3] = '123'\n",
    "_list"
   ]
  },
  {
   "cell_type": "code",
   "execution_count": 3,
   "metadata": {},
   "outputs": [
    {
     "data": {
      "text/plain": [
       "[1, '2', 3, '4', 5]"
      ]
     },
     "execution_count": 3,
     "metadata": {},
     "output_type": "execute_result"
    }
   ],
   "source": [
    "# 该替换,切片长度和可迭代对象长度必须相等\n",
    "_list = [1,2,3,4,5]\n",
    "_list[1:5:2] = '24'\n",
    "_list"
   ]
  },
  {
   "cell_type": "markdown",
   "metadata": {},
   "source": [
    "需要注意，替换并没有改变原来的列表对象："
   ]
  },
  {
   "cell_type": "code",
   "execution_count": 4,
   "metadata": {},
   "outputs": [
    {
     "name": "stdout",
     "output_type": "stream",
     "text": [
      "2065281773704 [1, 2, 3]\n",
      "2065281773704 [1, 2, 0]\n",
      "2065281773704 [0, 1, 2, 3, 4]\n",
      "2065281773704 ['a', 1, 'b', 3, 'c']\n"
     ]
    }
   ],
   "source": [
    "list_1 = [1,2,3]\n",
    "print(id(list_1),list_1)\n",
    "list_1[2] = 0\n",
    "print(id(list_1),list_1)\n",
    "list_1[:] = range(5)\n",
    "print(id(list_1),list_1)\n",
    "list_1[::2] = ('a','b','c')\n",
    "print(id(list_1),list_1)"
   ]
  },
  {
   "cell_type": "markdown",
   "metadata": {},
   "source": [
    "可以利用切片在列表中任意位置插入数据片段："
   ]
  },
  {
   "cell_type": "code",
   "execution_count": 5,
   "metadata": {},
   "outputs": [
    {
     "name": "stdout",
     "output_type": "stream",
     "text": [
      "[0, 0, 1, 2, 3]\n"
     ]
    },
    {
     "data": {
      "text/plain": [
       "[0, 0, 'a', 'b', 1, 2, 3]"
      ]
     },
     "execution_count": 5,
     "metadata": {},
     "output_type": "execute_result"
    }
   ],
   "source": [
    "_list = [1,2,3]\n",
    "# 在前面插入两个 0\n",
    "_list[:0] = (0,0)\n",
    "print(_list)\n",
    "# 在索引为 2 的元素前面插入 'a','b'\n",
    "_list[2:2] = ['a','b']\n",
    "_list"
   ]
  },
  {
   "cell_type": "markdown",
   "metadata": {},
   "source": [
    "列由切片浅拷贝列表，生成新的列表，但列表中有可变对象时，新列表中的可变对象和对应的原来列表中的可变对象是同一个对象的多次引用："
   ]
  },
  {
   "cell_type": "code",
   "execution_count": 6,
   "metadata": {},
   "outputs": [
    {
     "name": "stdout",
     "output_type": "stream",
     "text": [
      "原列表： 2065281774536 新列表： 2065281774664\n",
      "原列表中的可变对象： 2065281383112 \n",
      "新列表中对应的可变对象： 2065281383112\n"
     ]
    }
   ],
   "source": [
    "list_1 = [[1,2],3,4]\n",
    "list_2 = list_1[:]\n",
    "print('原列表：',id(list_1),'新列表：',id(list_2))\n",
    "print('原列表中的可变对象：',\n",
    "      id(list_1[0]),\n",
    "      '\\n新列表中对应的可变对象：',id(list_2[0]))"
   ]
  },
  {
   "cell_type": "markdown",
   "metadata": {},
   "source": [
    "改变其中一个，都会跟着改变。需要注意区分修改列表中元素的元素，和修改列表元素的区别："
   ]
  },
  {
   "cell_type": "code",
   "execution_count": 7,
   "metadata": {},
   "outputs": [
    {
     "name": "stdout",
     "output_type": "stream",
     "text": [
      "[['a', 2], 3, 4] [['a', 2], 3, 4]\n",
      "['a', 3, 4] [['a', 2], 3, 4]\n"
     ]
    }
   ],
   "source": [
    "list_1[0][0] = 'a'\n",
    "print(list_1, list_2)\n",
    "list_1[0] = 'a'\n",
    "print(list_1, list_2)"
   ]
  }
 ],
 "metadata": {
  "kernelspec": {
   "display_name": "Python 3 (ipykernel)",
   "language": "python",
   "name": "python3"
  },
  "language_info": {
   "codemirror_mode": {
    "name": "ipython",
    "version": 3
   },
   "file_extension": ".py",
   "mimetype": "text/x-python",
   "name": "python",
   "nbconvert_exporter": "python",
   "pygments_lexer": "ipython3",
   "version": "3.9.7"
  }
 },
 "nbformat": 4,
 "nbformat_minor": 4
}
